{
 "cells": [
  {
   "cell_type": "code",
   "execution_count": 2,
   "metadata": {},
   "outputs": [],
   "source": [
    "let { cv } = require('opencv-wasm')\n",
    "let Jimp = require('jimp')\n",
    "let fs = require('fs').promises\n",
    "let { join } = require('path')\n",
    "let sharp = require('sharp')"
   ]
  },
  {
   "cell_type": "code",
   "execution_count": 3,
   "metadata": {},
   "outputs": [
    {
     "ename": "number",
     "evalue": "6484384",
     "output_type": "error",
     "traceback": []
    }
   ],
   "source": [
    "(async () => {\n",
    "  let { data: sourceData, info: sourceInfo } = await sharp(\"../src/assets/la-grande-jatte/x2-y1.jpg\", {\n",
    "    limitInputPixels: false,\n",
    "  })\n",
    "    .raw()\n",
    "    .toBuffer({ resolveWithObject: true });\n",
    "  \n",
    "  let { data: templateData, info: templateInfo } = await sharp(\"../src/assets/la-grande-jatte/daub.png\", {\n",
    "    limitInputPixels: false,\n",
    "  })\n",
    "    .raw()\n",
    "    .toBuffer({ resolveWithObject: true });\n",
    "  \n",
    "  let { data: maskData, info: maskInfo } = await sharp(\"../src/assets/la-grande-jatte/mask.png\", {\n",
    "    limitInputPixels: false,\n",
    "  })\n",
    "    .raw()\n",
    "    .toBuffer({ resolveWithObject: true });\n",
    "\n",
    "  let source = new cv.Mat(sourceInfo.height, sourceInfo.width, cv.CV_8UC3)\n",
    "  source.data.set(sourceData)\n",
    "  let template = new cv.Mat(templateInfo.height, templateInfo.width, cv.CV_8UC3)\n",
    "  template.data.set(templateData)\n",
    "  let mask = new cv.Mat(maskInfo.height, maskInfo.width, cv.CV_8UC3)\n",
    "  mask.data.set(maskData)\n",
    "  let result = new cv.Mat(source.rows, source.cols, source.type());\n",
    "  cv.matchTemplate(source, template, result, cv.TM_CCOEFF_NORMED, mask);\n",
    "\n",
    "  try {\n",
    "    await sharp(Buffer.from(result.data), {\n",
    "      limitInputPixels: false,\n",
    "      raw: {\n",
    "        width: sourceInfo.width,\n",
    "        height: sourceInfo.height,\n",
    "        channels: sourceInfo.channels,\n",
    "      },\n",
    "    })\n",
    "      .toFile(\"opencv-wip.jpg\");\n",
    "  } catch (err) {\n",
    "    console.log(err);\n",
    "  }\n",
    "})();\n"
   ]
  },
  {
   "cell_type": "code",
   "execution_count": null,
   "metadata": {},
   "outputs": [],
   "source": []
  }
 ],
 "metadata": {
  "interpreter": {
   "hash": "74b159905c6e9709a5e6d0d02e8dbeb6439f13d4a5b6e8baca9348558c80c93f"
  },
  "kernelspec": {
   "display_name": "Javascript (Node.js)",
   "language": "javascript",
   "name": "javascript"
  },
  "language_info": {
   "file_extension": ".js",
   "mimetype": "application/javascript",
   "name": "javascript",
   "version": "17.0.1"
  },
  "orig_nbformat": 4
 },
 "nbformat": 4,
 "nbformat_minor": 2
}
