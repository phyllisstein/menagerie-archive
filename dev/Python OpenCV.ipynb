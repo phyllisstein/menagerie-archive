{
 "cells": [
  {
   "cell_type": "code",
   "execution_count": 5,
   "metadata": {},
   "outputs": [],
   "source": [
    "import cv2 as cv\n",
    "import math\n",
    "from matplotlib import pyplot as plt\n",
    "import numpy as np"
   ]
  },
  {
   "cell_type": "code",
   "execution_count": 6,
   "metadata": {},
   "outputs": [],
   "source": [
    "def unage(labColor):\n",
    "    [lightness, a, b] = labColor\n",
    "    \n",
    "    lightness = max(\n",
    "        0,\n",
    "        min(\n",
    "            100,\n",
    "            math.floor(\n",
    "                100\n",
    "                * (0.834 * (lightness / 100) ** 2 + 0.309 * (lightness / 100) + 0.145)\n",
    "            ),\n",
    "        ),\n",
    "    )\n",
    "\n",
    "    a = max(-128, min(127, math.floor(1.077 * (a + 128 / 255) - 0.039)))\n",
    "    b = max(-128, min(127, math.floor(1.09 * (b + 128 / 255) - 0.054)))\n",
    "    \n",
    "    return np.array([lightness, a, b], dtype=np.uint8)\n",
    "\n"
   ]
  },
  {
   "cell_type": "code",
   "execution_count": 11,
   "metadata": {},
   "outputs": [],
   "source": [
    "img = cv.imread('../src/assets/la-grande-jatte/x0-y0.jpg')"
   ]
  },
  {
   "cell_type": "code",
   "execution_count": 14,
   "metadata": {},
   "outputs": [],
   "source": [
    "img = cv.cvtColor(img, cv.COLOR_BGR2Lab)\n",
    "\n",
    "for row in img:\n",
    "    for pixel in row:\n",
    "        pixel = unage(pixel)\n",
    "        \n",
    "img = cv.cvtColor(img, cv.COLOR_Lab2BGR)"
   ]
  },
  {
   "cell_type": "code",
   "execution_count": null,
   "metadata": {},
   "outputs": [],
   "source": [
    "plt.imshow(img)\n",
    "plt.show()"
   ]
  }
 ],
 "metadata": {
  "interpreter": {
   "hash": "74b159905c6e9709a5e6d0d02e8dbeb6439f13d4a5b6e8baca9348558c80c93f"
  },
  "kernelspec": {
   "display_name": "Python 3.7.11 64-bit ('menagerie': conda)",
   "language": "python",
   "name": "python3"
  },
  "language_info": {
   "codemirror_mode": {
    "name": "ipython",
    "version": 3
   },
   "file_extension": ".py",
   "mimetype": "text/x-python",
   "name": "python",
   "nbconvert_exporter": "python",
   "pygments_lexer": "ipython3",
   "version": "3.7.11"
  },
  "orig_nbformat": 4
 },
 "nbformat": 4,
 "nbformat_minor": 2
}
